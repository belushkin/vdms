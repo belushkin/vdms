{
 "cells": [
  {
   "cell_type": "code",
   "execution_count": null,
   "metadata": {},
   "outputs": [],
   "source": [
    "import vdms\n",
    "\n",
    "db = vdms.VDMS()\n",
    "db.connect(\"localhost\")\n",
    "\n",
    "# Return an image by its name and run resize and threshold operations.\n",
    "\n",
    "query = \"\"\"\n",
    "[\n",
    "  { \n",
    "      \"FindImage\" : {\n",
    "         \"constraints\":{\n",
    "             \"name\": [\"==\", \"VSD.Brain.XX.O.MR_Flair.35619.nii.0085..png-0\"]\n",
    "         },\n",
    "         \"operations\": [\n",
    "             {\n",
    "                 \"type\": \"resize\",\n",
    "                 \"height\": 240,\n",
    "                 \"width\": 240\n",
    "             },\n",
    "             {\n",
    "                 \"type\": \"threshold\",\n",
    "                 \"value\": 0\n",
    "             }\n",
    "         ],\n",
    "         \"results\" : {\n",
    "            \"list\" : [ \"name\" ]\n",
    "         }\n",
    "      }\n",
    "   }\n",
    "]\n",
    "\"\"\"\n",
    "\n",
    "response, images = db.query(query)\n",
    "# vdms.aux_print_json(str(response))\n",
    "\n",
    "from IPython.display import Image\n",
    "counter = 0\n",
    "for im in images:\n",
    "    img_file = 'images/res_' + str(counter) + '.jpg'\n",
    "    counter = counter + 1\n",
    "    fd = open(img_file, 'w+')\n",
    "    fd.write(im)\n",
    "    fd.close()\n",
    "    display(Image(img_file))"
   ]
  },
  {
   "cell_type": "code",
   "execution_count": null,
   "metadata": {
    "collapsed": true
   },
   "outputs": [],
   "source": []
  }
 ],
 "metadata": {
  "kernelspec": {
   "display_name": "Python 2",
   "language": "python",
   "name": "python2"
  },
  "language_info": {
   "codemirror_mode": {
    "name": "ipython",
    "version": 2
   },
   "file_extension": ".py",
   "mimetype": "text/x-python",
   "name": "python",
   "nbconvert_exporter": "python",
   "pygments_lexer": "ipython2",
   "version": "2.7.12"
  }
 },
 "nbformat": 4,
 "nbformat_minor": 2
}
