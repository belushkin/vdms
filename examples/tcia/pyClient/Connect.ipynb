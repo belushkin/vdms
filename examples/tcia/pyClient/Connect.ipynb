{
 "cells": [
  {
   "cell_type": "code",
   "execution_count": 1,
   "metadata": {},
   "outputs": [
    {
     "name": "stdout",
     "output_type": "stream",
     "text": [
      "[\n",
      "    {\n",
      "        \"FindEntity\": {\n",
      "            \"status\": 0\n",
      "        }\n",
      "    }, \n",
      "    {\n",
      "        \"AddEntity\": {\n",
      "            \"status\": 0\n",
      "        }\n",
      "    }, \n",
      "    {\n",
      "        \"Connect\": {\n",
      "            \"status\": 0\n",
      "        }\n",
      "    }\n",
      "]\n"
     ]
    }
   ],
   "source": [
    "import vdms\n",
    "\n",
    "db = vdms.VDMS()\n",
    "db.connect(\"localhost\")\n",
    "\n",
    "query = \"\"\"\n",
    "[\n",
    "    {\n",
    "        \"FindEntity\": {\n",
    "            \"class\": \"patient\",\n",
    "            \"constraints\": {\n",
    "                \"age_at_initial\": [\">=\", 85]\n",
    "            },\n",
    "            \"_ref\": 3\n",
    "        }\n",
    "    },\n",
    "   {\n",
    "      \"AddEntity\" : {\n",
    "         \"class\" : \"doctor\",\n",
    "         \"properties\": {\n",
    "             \"name\": \"Brian2\"\n",
    "         }, \n",
    "         \"_ref\": 2\n",
    "      }\n",
    "   },\n",
    "   {\n",
    "      \"Connect\" : {\n",
    "         \"class\": \"doctor_patient\",\n",
    "         \"ref1\": 3,\n",
    "         \"ref2\": 2\n",
    "      }\n",
    "   }\n",
    "]   \n",
    "\"\"\"\n",
    "    \n",
    "response, images = db.query(query)\n",
    "vdms.aux_print_json(str(response))\n",
    "    \n"
   ]
  },
  {
   "cell_type": "code",
   "execution_count": null,
   "metadata": {
    "collapsed": true
   },
   "outputs": [],
   "source": []
  }
 ],
 "metadata": {
  "kernelspec": {
   "display_name": "Python 2",
   "language": "python",
   "name": "python2"
  },
  "language_info": {
   "codemirror_mode": {
    "name": "ipython",
    "version": 2
   },
   "file_extension": ".py",
   "mimetype": "text/x-python",
   "name": "python",
   "nbconvert_exporter": "python",
   "pygments_lexer": "ipython2",
   "version": "2.7.12"
  }
 },
 "nbformat": 4,
 "nbformat_minor": 2
}
