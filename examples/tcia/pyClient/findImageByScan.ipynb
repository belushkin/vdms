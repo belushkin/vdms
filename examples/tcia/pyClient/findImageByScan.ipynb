{
 "cells": [
  {
   "cell_type": "code",
   "execution_count": null,
   "metadata": {
    "collapsed": true
   },
   "outputs": [],
   "source": [
    "import vdms\n",
    "\n",
    "db = vdms.VDMS()\n",
    "db.connect(\"localhost\")\n",
    "\n",
    "# Return 100x100 images of brian scans of all patients \n",
    "# that were admitted when they were older than 80 years old\n",
    "\n",
    "query = \"\"\"\n",
    "[\n",
    "   {\n",
    "      \"FindEntity\" : {\n",
    "         \"class\" : \"patient\",\n",
    "         \"_ref\" : 43,\n",
    "         \"constraints\" : { \"age_at_initial\" : [ \">\", 80 ] }\n",
    "      }\n",
    "   },\n",
    "   {\n",
    "      \"FindEntity\" : {\n",
    "         \"class\" : \"Scan\",\n",
    "         \"_ref\" : 555,\n",
    "         \"link\" : { \"ref\" : 43 }\n",
    "      }\n",
    "   },\n",
    "   {\n",
    "      \"FindImage\" : {\n",
    "         \"link\" : { \"ref\" : 555 },\n",
    "         \"operations\": [\n",
    "             {\n",
    "                 \"type\": \"resize\",\n",
    "                 \"height\": 100,\n",
    "                 \"width\": 100\n",
    "             }\n",
    "         ], \n",
    "         \"constraints\": {\n",
    "             \"number\": [\">=\", 85, \"<=\", 90]\n",
    "         }\n",
    "     }\n",
    "   }\n",
    "]\n",
    "\"\"\"\n",
    "\n",
    "response, images = db.query(query)\n",
    "# vdms.aux_print_json(str(response))\n",
    "\n",
    "from IPython.display import Image\n",
    "counter = 0\n",
    "for im in images:\n",
    "    img_file = 'images/res_' + str(counter) + '.jpg'\n",
    "    counter = counter + 1\n",
    "    fd = open(img_file, 'w+')\n",
    "    fd.write(im)\n",
    "    fd.close()\n",
    "    display(Image(img_file))\n",
    "    \n",
    "print \"Number of images:\", counter\n",
    "# \"name\": [\"<=\", \"VSD.Brain.XX.O.MR_Flair.35619.nii.0085..png-0\"],\n",
    "# \"constraints\" : { \"bcr_patient_barc\" : [ \"==\", \"TCGA-76-6657-0\" ] },"
   ]
  },
  {
   "cell_type": "code",
   "execution_count": null,
   "metadata": {
    "collapsed": true
   },
   "outputs": [],
   "source": [
    "%%javascript\n",
    "IPython.OutputArea.prototype._should_scroll = function(lines) {\n",
    "    return false;\n",
    "}"
   ]
  },
  {
   "cell_type": "code",
   "execution_count": null,
   "metadata": {
    "collapsed": true
   },
   "outputs": [],
   "source": []
  }
 ],
 "metadata": {
  "kernelspec": {
   "display_name": "Python 2",
   "language": "python",
   "name": "python2"
  },
  "language_info": {
   "codemirror_mode": {
    "name": "ipython",
    "version": 2
   },
   "file_extension": ".py",
   "mimetype": "text/x-python",
   "name": "python",
   "nbconvert_exporter": "python",
   "pygments_lexer": "ipython2",
   "version": "2.7.12"
  }
 },
 "nbformat": 4,
 "nbformat_minor": 2
}
