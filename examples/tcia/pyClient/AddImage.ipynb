{
 "cells": [
  {
   "cell_type": "code",
   "execution_count": null,
   "metadata": {
    "collapsed": true
   },
   "outputs": [],
   "source": [
    "import vdms\n",
    "\n",
    "db = vdms.VDMS()\n",
    "db.connect(\"hsw1.jf.intel.com\")"
   ]
  },
  {
   "cell_type": "code",
   "execution_count": null,
   "metadata": {
    "collapsed": true
   },
   "outputs": [],
   "source": [
    "image = open(\"images/sample_brain.jpg\")\n",
    "img_blob = image.read();"
   ]
  },
  {
   "cell_type": "code",
   "execution_count": null,
   "metadata": {},
   "outputs": [],
   "source": [
    "query = \"\"\"\n",
    "[\n",
    "   {\n",
    "      \"AddImage\" : {\n",
    "         \"properties\": {\n",
    "             \"name\": \"my_favourite_image_2\", \n",
    "             \"id\": 39\n",
    "         },\n",
    "         \"format\":\"png\"\n",
    "      }\n",
    "   }\n",
    "]   \n",
    "\"\"\"\n",
    "    \n",
    "blobs = []\n",
    "blobs.append(img_blob)\n",
    "    \n",
    "response, images = db.query(query, [blobs])\n",
    "vdms.aux_print_json(str(response))"
   ]
  },
  {
   "cell_type": "code",
   "execution_count": null,
   "metadata": {},
   "outputs": [],
   "source": [
    "query = \"\"\"\n",
    "[\n",
    "   {\n",
    "      \"FindImage\" : {\n",
    "         \"constraints\": {\n",
    "             \"id\": [\">=\", 34]\n",
    "         },\n",
    "         \"operations\": [ \n",
    "             {\n",
    "                 \"type\": \"threshold\",\n",
    "                 \"value\": 128\n",
    "             }\n",
    "         ]\n",
    "      }\n",
    "   }\n",
    "]   \n",
    "\"\"\"\n",
    "    \n",
    "response, images = db.query(query)\n",
    "vdms.aux_print_json(str(response))\n",
    "\n",
    "from IPython.display import Image\n",
    "counter = 0\n",
    "for im in images:\n",
    "    img_file = 'images/res_' + str(counter) + '.jpg'\n",
    "    counter = counter + 1\n",
    "    fd = open(img_file, 'w+')\n",
    "    fd.write(im)\n",
    "    fd.close()\n",
    "    display(Image(img_file))"
   ]
  },
  {
   "cell_type": "code",
   "execution_count": null,
   "metadata": {
    "collapsed": true
   },
   "outputs": [],
   "source": []
  }
 ],
 "metadata": {
  "kernelspec": {
   "display_name": "Python 2",
   "language": "python",
   "name": "python2"
  },
  "language_info": {
   "codemirror_mode": {
    "name": "ipython",
    "version": 2
   },
   "file_extension": ".py",
   "mimetype": "text/x-python",
   "name": "python",
   "nbconvert_exporter": "python",
   "pygments_lexer": "ipython2",
   "version": "2.7.12"
  }
 },
 "nbformat": 4,
 "nbformat_minor": 2
}
