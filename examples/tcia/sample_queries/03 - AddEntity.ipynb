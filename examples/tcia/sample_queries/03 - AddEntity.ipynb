{
 "cells": [
  {
   "cell_type": "code",
   "execution_count": null,
   "metadata": {},
   "outputs": [],
   "source": [
    "import vdms\n",
    "\n",
    "db = vdms.VDMS()\n",
    "db.connect(\"localhost\")\n",
    "\n",
    "# Add a doctor\n",
    "\n",
    "query = \"\"\"\n",
    "[\n",
    "   {\n",
    "      \"AddEntity\" : {\n",
    "         \"class\" : \"doctor\", \n",
    "         \"properties\": { \n",
    "             \"age\": 15, \n",
    "             \"name\": \"Regina\", \n",
    "             \"lastname\": \"George\", \n",
    "             \"speciality\": \"braisnstuff\"\n",
    "             \n",
    "         }\n",
    "      }\n",
    "   },\n",
    "   {\n",
    "      \"AddEntity\" : {\n",
    "         \"class\" : \"doctor\", \n",
    "         \"properties\": { \n",
    "             \"age\": 17, \n",
    "             \"name\": \"Samantha\", \n",
    "             \"lastname\": \"Smith\", \n",
    "             \"speciality\": \"braisnstuff\"\n",
    "             \n",
    "         }\n",
    "      }\n",
    "   }\n",
    "]   \n",
    "\"\"\"\n",
    "\n",
    "response, images = db.query(query)\n",
    "print \"VDMS Response: \\n\"\n",
    "vdms.aux_print_json(str(response))"
   ]
  },
  {
   "cell_type": "code",
   "execution_count": null,
   "metadata": {},
   "outputs": [],
   "source": [
    "query = \"\"\"\n",
    "[\n",
    "   {\n",
    "      \"FindEntity\" : {\n",
    "         \"class\" : \"doctor\", \n",
    "         \"results\": {\n",
    "             \"list\": [\"name\"]\n",
    "         }\n",
    "      }\n",
    "   }\n",
    "]   \n",
    "\"\"\"\n",
    "\n",
    "response, images = db.query(query)\n",
    "print \"VDMS Response: \\n\"\n",
    "vdms.aux_print_json(str(response))"
   ]
  }
 ],
 "metadata": {
  "kernelspec": {
   "display_name": "Python 2",
   "language": "python",
   "name": "python2"
  },
  "language_info": {
   "codemirror_mode": {
    "name": "ipython",
    "version": 2
   },
   "file_extension": ".py",
   "mimetype": "text/x-python",
   "name": "python",
   "nbconvert_exporter": "python",
   "pygments_lexer": "ipython2",
   "version": "2.7.12"
  }
 },
 "nbformat": 4,
 "nbformat_minor": 2
}
