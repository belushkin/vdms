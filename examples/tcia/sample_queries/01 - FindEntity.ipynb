{
 "cells": [
  {
   "cell_type": "code",
   "execution_count": null,
   "metadata": {},
   "outputs": [],
   "source": [
    "import vdms\n",
    "\n",
    "db = vdms.VDMS()\n",
    "db.connect(\"localhost\")\n",
    "\n",
    "# Get information about patients over 85\n",
    "# SQL equivalent: SELECT PATIENT.bar_code FROM PATIENTS WHERE PATIENTS.age >= 85\n",
    "\n",
    "query = \"\"\"\n",
    "[\n",
    "   {\n",
    "      \"FindEntity\" : {\n",
    "         \"class\" : \"patient\", \n",
    "         \"constraints\": { \n",
    "             \"age_at_initial\": [\">=\", 85]\n",
    "         },\n",
    "         \"results\" : {\n",
    "            \"list\" : [ \"bcr_patient_barc\"]\n",
    "         }\n",
    "      }\n",
    "   }\n",
    "]   \n",
    "\"\"\"\n",
    "\n",
    "response, images = db.query(query)\n",
    "vdms.aux_print_json(str(response))"
   ]
  },
  {
   "cell_type": "code",
   "execution_count": null,
   "metadata": {},
   "outputs": [],
   "source": [
    "%%javascript\n",
    "IPython.OutputArea.prototype._should_scroll = function(lines) {\n",
    "    return false;\n",
    "}"
   ]
  }
 ],
 "metadata": {
  "kernelspec": {
   "display_name": "Python 2",
   "language": "python",
   "name": "python2"
  },
  "language_info": {
   "codemirror_mode": {
    "name": "ipython",
    "version": 2
   },
   "file_extension": ".py",
   "mimetype": "text/x-python",
   "name": "python",
   "nbconvert_exporter": "python",
   "pygments_lexer": "ipython2",
   "version": "2.7.12"
  }
 },
 "nbformat": 4,
 "nbformat_minor": 2
}
